{
 "cells": [
  {
   "cell_type": "code",
   "execution_count": 1,
   "metadata": {},
   "outputs": [],
   "source": [
    "group = {\n",
    "    \"Jill\": {\n",
    "        \"age\": 26,\n",
    "        \"job\": \"biologist\",\n",
    "        \"relations\": {\n",
    "            \"Zalika\": \"friend\",\n",
    "            \"John\": \"partner\"\n",
    "        }\n",
    "    },\n",
    "    \"Zalika\": {\n",
    "        \"age\": 28,\n",
    "        \"job\": \"artist\",\n",
    "        \"relations\": {\n",
    "            \"Jill\": \"friend\"\n",
    "        }\n",
    "    },\n",
    "    \"John\": {\n",
    "        \"age\": 27,\n",
    "        \"job\": \"writer\",\n",
    "        \"relations\": {\n",
    "            \"Jill\": \"partner\"\n",
    "        }\n",
    "    },\n",
    "    \"Nash\": {\n",
    "        \"age\": 34,\n",
    "        \"job\": \"chef\",\n",
    "        \"relations\": {\n",
    "            \"John\": \"cousin\",\n",
    "            \"Zalika\": \"landlord\"\n",
    "        }\n",
    "    }\n",
    "}\n",
    "# the average (mean) number of relations among members of the group"
   ]
  },
  {
   "cell_type": "code",
   "execution_count": null,
   "metadata": {},
   "outputs": [],
   "source": [
    "max_age = max([group.get(personName).get(\"age\") for personName in group.keys()])"
   ]
  },
  {
   "cell_type": "code",
   "execution_count": 33,
   "metadata": {},
   "outputs": [
    {
     "data": {
      "text/plain": [
       "[{'Zalika': 'friend', 'John': 'partner'},\n",
       " {'Jill': 'friend'},\n",
       " {'Jill': 'partner'},\n",
       " {'John': 'cousin', 'Zalika': 'landlord'}]"
      ]
     },
     "execution_count": 33,
     "metadata": {},
     "output_type": "execute_result"
    }
   ],
   "source": [
    "relationships_dict_list = [group.get(personName).get(\"relations\") for personName in group.keys()]\n",
    "relationships_dict_list"
   ]
  },
  {
   "cell_type": "code",
   "execution_count": 46,
   "metadata": {},
   "outputs": [
    {
     "data": {
      "text/plain": [
       "1.5"
      ]
     },
     "execution_count": 46,
     "metadata": {},
     "output_type": "execute_result"
    }
   ],
   "source": [
    "\n"
   ]
  }
 ],
 "metadata": {
  "interpreter": {
   "hash": "916dbcbb3f70747c44a77c7bcd40155683ae19c65e1c03b4aa3499c5328201f1"
  },
  "kernelspec": {
   "display_name": "Python 3.8.10 64-bit",
   "name": "python3"
  },
  "language_info": {
   "codemirror_mode": {
    "name": "ipython",
    "version": 3
   },
   "file_extension": ".py",
   "mimetype": "text/x-python",
   "name": "python",
   "nbconvert_exporter": "python",
   "pygments_lexer": "ipython3",
   "version": "3.8.10"
  },
  "orig_nbformat": 4
 },
 "nbformat": 4,
 "nbformat_minor": 2
}
