{
 "cells": [
  {
   "cell_type": "code",
   "execution_count": 1,
   "metadata": {},
   "outputs": [
    {
     "name": "stdout",
     "output_type": "stream",
     "text": [
      "{'John': 'cousin', 'Zalika': 'landlord'}\n"
     ]
    }
   ],
   "source": [
    "\"\"\"An example of how to represent a group of acquaintances in Python.\"\"\"\n",
    "\n",
    "# Your code to go here...\n",
    "\n",
    "#my_group = #-JiefuMei-myx2021-thandi1908-SolemnShark871\n",
    "\n",
    "class Person:\n",
    "    def __init__(self, name, age, occupation, relationships):\n",
    "        self.name = name\n",
    "        self.age = age\n",
    "        self.occupation = occupation\n",
    "        self.relationships = relationships  #define relationship\n",
    "\n",
    "    def add_relationships(self, name, relationships):\n",
    "        self.relationships = relationships\n",
    "\n",
    "Jill_relations = {\n",
    "    \"Zalika\": \"friend\",\n",
    "    \"John\": \"partner\"\n",
    "                     }\n",
    "\n",
    "Zalika_relations = {\n",
    "    \"Jill\":\"friend\"\n",
    "}\n",
    "\n",
    "John_relations = {\n",
    "    \"Jill\":\"partner\"\n",
    "}\n",
    "\n",
    "Nash_relations ={\n",
    "    \"John\":\"cousin\",\n",
    "    \"Zalika\":\"landlord\"\n",
    "}\n",
    "jill = Person('Jill', 26, \"biologist\",Jill_relations)\n",
    "zalika = Person('Zalika',28,\"artist\",Zalika_relations)\n",
    "john = Person('John',27,\"writer\",John_relations)\n",
    "nash = Person('Nash',34, \"chef\",Nash_relations)\n",
    "\n",
    "\n",
    "print(nash.relationships)"
   ]
  },
  {
   "cell_type": "markdown",
   "metadata": {},
   "source": []
  },
  {
   "cell_type": "markdown",
   "metadata": {},
   "source": [
    "# Homework \n",
    "Add some code that makes use of comprehension expressions to your group.py file so that it prints out the following when the script is run:\n",
    "\n",
    "1. the maximum age of people in the group\n",
    "2. the average (mean) number of relations among members of the group\n",
    "3. the maximum age of people in the group that have at least one relation\n",
    "4. [more advanced] the maximum age of people in the group that have at least one friend"
   ]
  },
  {
   "cell_type": "code",
   "execution_count": 2,
   "metadata": {},
   "outputs": [],
   "source": [
    "# Let's use the dictionary approach for this \n",
    "\n",
    "group = {\n",
    "    \"Jill\": {\n",
    "        \"age\": 26,\n",
    "        \"job\": \"biologist\",\n",
    "        \"relations\": {\n",
    "            \"Zalika\": \"friend\",\n",
    "            \"John\": \"partner\"\n",
    "        }\n",
    "    },\n",
    "    \"Zalika\": {\n",
    "        \"age\": 28,\n",
    "        \"job\": \"artist\",\n",
    "        \"relations\": {\n",
    "            \"Jill\": \"friend\"\n",
    "        }\n",
    "    },\n",
    "    \"John\": {\n",
    "        \"age\": 27,\n",
    "        \"job\": \"writer\",\n",
    "        \"relations\": {\n",
    "            \"Jill\": \"partner\"\n",
    "        }\n",
    "    },\n",
    "    \"Nash\": {\n",
    "        \"age\": 34,\n",
    "        \"job\": \"chef\",\n",
    "        \"relations\": {\n",
    "            \"John\": \"cousin\",\n",
    "            \"Zalika\": \"landlord\"\n",
    "        }\n",
    "    }\n",
    "}"
   ]
  },
  {
   "cell_type": "code",
   "execution_count": 10,
   "metadata": {},
   "outputs": [
    {
     "name": "stdout",
     "output_type": "stream",
     "text": [
      "34\n"
     ]
    }
   ],
   "source": [
    "#1. The maximum age of people in the group \n",
    "\n",
    "max_age = max([group[person][\"age\"] for person in group])\n",
    "print(max_age)\n"
   ]
  },
  {
   "cell_type": "code",
   "execution_count": null,
   "metadata": {},
   "outputs": [
    {
     "name": "stdout",
     "output_type": "stream",
     "text": [
      "1.5\n"
     ]
    }
   ],
   "source": [
    "#2. The mean number of relationships for people in the group\n",
    "\n",
    "import numpy as np\n",
    "av_rels = np.mean([len(group[person][\"relations\"]) for person in group])\n",
    "\n",
    "print(av_rels)"
   ]
  },
  {
   "cell_type": "code",
   "execution_count": 23,
   "metadata": {},
   "outputs": [
    {
     "name": "stdout",
     "output_type": "stream",
     "text": [
      "34\n"
     ]
    }
   ],
   "source": [
    "#3 Maximum age of people in the group who have at least one relation\n",
    "\n",
    "group_w_rels = { }\n",
    "\n",
    "for person in group:\n",
    "    if len(group[person][\"relations\"]) > 0:\n",
    "        group_w_rels[person] = group[person]\n",
    "\n",
    "max_age_rels = max( \n",
    "    group_w_rels[person][\"age\"] for person in group_w_rels \n",
    ")\n",
    "print(max_age_rels)"
   ]
  },
  {
   "cell_type": "code",
   "execution_count": 27,
   "metadata": {},
   "outputs": [
    {
     "name": "stdout",
     "output_type": "stream",
     "text": [
      "{'Jill': {'age': 26, 'job': 'biologist', 'relations': {'Zalika': 'friend', 'John': 'partner'}}, 'Zalika': {'age': 28, 'job': 'artist', 'relations': {'Jill': 'friend'}}}\n",
      "28\n"
     ]
    }
   ],
   "source": [
    "# 4 [more advanced] the maximum age of people in the group that have at least one friend\n",
    "\n",
    "group_w_friends = { }\n",
    "\n",
    "for person in group:\n",
    "    if \"friend\" in group[person][\"relations\"].values():\n",
    "        group_w_friends[person] = group[person]\n",
    "\n",
    "max_age_friends = max( \n",
    "    group_w_friends[person][\"age\"] for person in group_w_friends \n",
    ")\n",
    "\n",
    "print(max_age_friends)"
   ]
  }
 ],
 "metadata": {
  "interpreter": {
   "hash": "b3ba2566441a7c06988d0923437866b63cedc61552a5af99d1f4fb67d367b25f"
  },
  "kernelspec": {
   "display_name": "Python 3.8.5 64-bit ('base': conda)",
   "name": "python3"
  },
  "language_info": {
   "codemirror_mode": {
    "name": "ipython",
    "version": 3
   },
   "file_extension": ".py",
   "mimetype": "text/x-python",
   "name": "python",
   "nbconvert_exporter": "python",
   "pygments_lexer": "ipython3",
   "version": "3.8.5"
  },
  "orig_nbformat": 4
 },
 "nbformat": 4,
 "nbformat_minor": 2
}
